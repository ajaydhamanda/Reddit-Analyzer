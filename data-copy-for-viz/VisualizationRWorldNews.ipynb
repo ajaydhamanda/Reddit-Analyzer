{
 "cells": [
  {
   "cell_type": "code",
   "execution_count": 39,
   "id": "4a60efdf",
   "metadata": {},
   "outputs": [],
   "source": [
    "import pandas as pd\n",
    "df = pd.read_csv('reddit_r_worldnews_dataset.csv')"
   ]
  },
  {
   "cell_type": "code",
   "execution_count": 46,
   "id": "b2b4d801",
   "metadata": {
    "scrolled": false
   },
   "outputs": [
    {
     "name": "stdout",
     "output_type": "stream",
     "text": [
      "The most common word in the data is: ukraine\n"
     ]
    }
   ],
   "source": [
    "from collections import Counter\n",
    "import re #regular expression\n",
    "import nltk\n",
    "from nltk.corpus import stopwords\n",
    "\n",
    "#combine headlines into one \n",
    "text = ''.join(df['Headline'])\n",
    "\n",
    "#make lower case\n",
    "text = re.sub(r'[^\\w\\s]', '', text.lower())\n",
    "\n",
    "#tokenize\n",
    "words = nltk.tokenize.word_tokenize(text)\n",
    "\n",
    "#remove stop words\n",
    "stop_words = set(stopwords.words('english'))\n",
    "words = [word for word in words if word not in stop_words]\n",
    " \n",
    "word_frequency = Counter(words)              \n",
    "most_common_word = word_frequency.most_common(1)[0][0]       \n",
    "               \n",
    "print(\"The most common word in the data is:\", most_common_word)\n"
   ]
  },
  {
   "cell_type": "markdown",
   "id": "f6279fdb",
   "metadata": {},
   "source": [
    "# Not surprising at all that Ukraine is the most common words mentioned in r/WorldNews"
   ]
  },
  {
   "cell_type": "code",
   "execution_count": 47,
   "id": "c493db65",
   "metadata": {},
   "outputs": [],
   "source": [
    "import pandas as pd\n",
    "df = pd.read_csv('reddit_r_worldnews_dataset.csv')"
   ]
  },
  {
   "cell_type": "code",
   "execution_count": null,
   "id": "aabe6479",
   "metadata": {},
   "outputs": [],
   "source": []
  }
 ],
 "metadata": {
  "kernelspec": {
   "display_name": "Python 3 (ipykernel)",
   "language": "python",
   "name": "python3"
  },
  "language_info": {
   "codemirror_mode": {
    "name": "ipython",
    "version": 3
   },
   "file_extension": ".py",
   "mimetype": "text/x-python",
   "name": "python",
   "nbconvert_exporter": "python",
   "pygments_lexer": "ipython3",
   "version": "3.9.13"
  }
 },
 "nbformat": 4,
 "nbformat_minor": 5
}
